{
  "nbformat": 4,
  "nbformat_minor": 0,
  "metadata": {
    "colab": {
      "name": "Algoritmo de compañero de cuarto.ipynb",
      "provenance": [],
      "collapsed_sections": [],
      "toc_visible": true
    },
    "kernelspec": {
      "name": "python3",
      "display_name": "Python 3"
    }
  },
  "cells": [
    {
      "cell_type": "markdown",
      "metadata": {
        "id": "npkqOhiOC5Af"
      },
      "source": [
        "#Algoritmo a programar \n",
        "##Pasos\n",
        "\n",
        "1. Los compañeros le proponen a su mejor opcion \n",
        "\n",
        "2. si uno se repite elige a su mejor propuesta\n",
        "\n",
        "3. si uno es rechazado va con su siguiente opcion \n",
        "\n",
        "4. si uno con pareja tiene otra propuesta y es mejor se va con ella\n",
        "\n",
        "5. el rechazado busca en el siguiente en su lista \n",
        "\n",
        "6. repetir hasta que todos tengan pareja "
      ]
    },
    {
      "cell_type": "markdown",
      "metadata": {
        "id": "FQtXfdXPXaRQ"
      },
      "source": [
        "Suponemos que está hecha la matriz n x n sin datos repetidos sobre la misma fila y en la primera columna."
      ]
    },
    {
      "cell_type": "code",
      "metadata": {
        "id": "o2NPaxZSCuPJ"
      },
      "source": [
        "#Libreria importante para pasar del csv a lista de python.\n",
        "import pandas as pd"
      ],
      "execution_count": null,
      "outputs": []
    },
    {
      "cell_type": "code",
      "metadata": {
        "id": "rdFtj20sJK2R"
      },
      "source": [
        "def toMatrix():\n",
        "  df = pd.read_csv('preferences.csv', header=None)\n",
        "  return df.values.tolist()"
      ],
      "execution_count": null,
      "outputs": []
    },
    {
      "cell_type": "code",
      "metadata": {
        "id": "ZwJyeRwZKwom",
        "colab": {
          "base_uri": "https://localhost:8080/"
        },
        "outputId": "918bab4b-d4f6-446e-8de9-cd3af3a330fc"
      },
      "source": [
        "preferencias   = toMatrix()\n",
        "preferencias"
      ],
      "execution_count": null,
      "outputs": [
        {
          "output_type": "execute_result",
          "data": {
            "text/plain": [
              "[[1, 2, 3, 4], [2, 3, 4, 1], [3, 2, 1, 4], [4, 1, 3, 2]]"
            ]
          },
          "metadata": {
            "tags": []
          },
          "execution_count": 3
        }
      ]
    },
    {
      "cell_type": "code",
      "metadata": {
        "id": "ytFQKtW7R9Ym"
      },
      "source": [
        "def obtener_rank(preferencias):\n",
        "    rank = [[None for j in range(len(preferencias))] for i in range(len(preferencias))]\n",
        "\n",
        "    for i in range(len(preferencias)): \n",
        "        for j in range(len(preferencias[i])):\n",
        "            rank[i][preferencias[i][j]] = j\n",
        "\n",
        "    return rank\n"
      ],
      "execution_count": null,
      "outputs": []
    },
    {
      "cell_type": "code",
      "metadata": {
        "id": "v6jXkBIJbRwT"
      },
      "source": [
        "def fase1(preferencias, rank):\n",
        "    propuesta = [None for x in range(len(preferencias))]\n",
        "    primero = [0 for x in range(len(preferencias))]\n",
        "    ultimo = [len(x) for x in preferencias]\n",
        "    en_lista = [x for x in range(len(preferencias))]\n",
        "\n",
        "    while len(en_lista) > 0:\n",
        "        i = en_lista[0]\n",
        "\n",
        "        #aqui se modifica la primera posicion si es necesario\n",
        "        while preferencias[i][primero[i]] == None:\n",
        "            primero[i] +=1\n",
        "\n",
        "        primera_opcion = preferencias[i][primero[i]]\n",
        "\n",
        "        #si la primera opcion no tiene propuestas aun, acepta \n",
        "        if propuesta[primera_opcion] == None:\n",
        "            propuesta[primera_opcion] = i\n",
        "\n",
        "            match_rank = preferencias[primera_opcion].index(i)\n",
        "\n",
        "            for x in range(match_rank+1, ultimo[primera_opcion]):\n",
        "                rechazo = preferencias[primera_opcion][x]\n",
        "                preferencias[rechazo][rank[rechazo][primera_opcion]] = None\n",
        "\n",
        "            ultimo[primera_opcion] = match_rank\n",
        "            del en_lista[0]\n",
        "\n",
        "            continue\n",
        "        \n",
        "        actual_match_ind = rank[primera_opcion][propuesta[primera_opcion]]\n",
        "        potencial_match_ind = rank[primera_opcion][i]\n",
        "\n",
        "        if actual_match_ind < potencial_match_ind: #el match actual es preferido, i se rechaza\n",
        "            preferencias[primera_opcion][potencial_match_ind] = None\n",
        "\n",
        "            primero[i] += 1 #empieza en la siguiente posicion \n",
        "\n",
        "            continue\n",
        "\n",
        "        else: #acepta la propuesta, el match anterior regresa a la lista de preferencias\n",
        "            preferencias[primera_opcion][actual_match_ind] = None\n",
        "            #el match viejo es rechazado por la primera opcion, se actualiza la lista\n",
        "            primera_opcion_ind = rank[propuesta[primera_opcion]][primera_opcion]\n",
        "            preferencias[propuesta[primera_opcion]][primera_opcion_ind] = None\n",
        "\n",
        "            del en_lista[0]\n",
        "            #agregamos el match viejo  a en_lista\n",
        "            en_lista.insert(0, propuesta[primera_opcion])\n",
        "\n",
        "            propuesta[primera_opcion] = i\n",
        "            ultimo[primera_opcion] = potencial_match_ind\n",
        "\n",
        "    return primero, ultimo, preferencias\n"
      ],
      "execution_count": null,
      "outputs": []
    },
    {
      "cell_type": "code",
      "metadata": {
        "id": "ZYviNiYHb7La"
      },
      "source": [
        "def limpiar_preferencias(primero, ultimo, preferencias):\n",
        "    for i in range(len(preferencias)):\n",
        "        for j in range(len(preferencias[i])):\n",
        "            if j < primero[i] or j > ultimo[i]:\n",
        "                preferencias[i][j] = None\n",
        "\n",
        "    return preferencias"
      ],
      "execution_count": null,
      "outputs": []
    },
    {
      "cell_type": "code",
      "metadata": {
        "id": "zJPNTCGqb8A7"
      },
      "source": [
        "def buscar_el_segundo(i, primero, ultimo, pref):\n",
        "    contador = 0\n",
        "    for j in range(primero[i], ultimo[i]+1):\n",
        "        if not pref[j]  == None:\n",
        "            contador += 1           \n",
        "        elif contador == 0:\n",
        "            primero[i] += 1\n",
        "        if contador == 2:\n",
        "            return pref[j]\n",
        "\n",
        "    return None"
      ],
      "execution_count": null,
      "outputs": []
    },
    {
      "cell_type": "code",
      "metadata": {
        "id": "EJFHrB1YcCZK"
      },
      "source": [
        "def buscar_rotacion(i, p, q, primero, ultimo, preferencias):\n",
        "    segundo_fav = buscar_el_segundo(p[i], primero, ultimo, preferencias[p[i]])\n",
        "    siguiente_pos = preferencias[segundo_fav][ultimo[segundo_fav]]\n",
        "\n",
        "    if siguiente_pos in p:\n",
        "        #se busca la rotacion\n",
        "        j = p.index(siguiente_pos)\n",
        "        q[j] = segundo_fav\n",
        "\n",
        "        return p[j:], q[j:]\n",
        "    \n",
        "    q.append(segundo_fav)\n",
        "    p.append(siguiente_pos)\n",
        "    return buscar_rotacion(i+1, p, q, primero, ultimo, preferencias)\n"
      ],
      "execution_count": null,
      "outputs": []
    },
    {
      "cell_type": "code",
      "metadata": {
        "id": "wbU72X2lcLQE"
      },
      "source": [
        "def eliminar_rotacion(p, q, primero, ultimo, preferencias, rank):\n",
        "    for i in range(len(p)):\n",
        "        #q_i rechaza a p_i entonces p_i propone a q_i+1\n",
        "        preferencias[p[i]][rank[p[i]][q[i]]] = None\n",
        "\n",
        "        for j in range(rank[q[i]][p[i-1]]+1, ultimo[q[i]]):\n",
        "            rechazado = rank[q[i]].index(j) \n",
        "            preferencias[rechazado][rank[rechazado][q[i]]] = None\n",
        "\n",
        "        ultimo[q[i]] = rank[q[i]][p[i-1]]\n"
      ],
      "execution_count": null,
      "outputs": []
    },
    {
      "cell_type": "code",
      "metadata": {
        "id": "RHWza-zGcNem"
      },
      "source": [
        "def fase2(primero, ultimo, preferencias, rank):\n",
        "    while True:\n",
        "        p, q = None, None\n",
        "        #busca el primero p_0 y obtine la rotacion por la lista de preferencias de p_0\n",
        "        for i in range(len(preferencias)):\n",
        "            if ultimo[i] - primero[i] > 0 and buscar_el_segundo(i, primero, ultimo, preferencias[i]) !=None:\n",
        "                p, q = buscar_rotacion(0, [i], [None], primero, ultimo, preferencias)\n",
        "                break\n",
        "        \n",
        "        if not p and not q:\n",
        "            return preferencias\n",
        "\n",
        "        #eliminamos rotacion \n",
        "        eliminar_rotacion(p, q, primero, ultimo, preferencias, rank)\n"
      ],
      "execution_count": null,
      "outputs": []
    },
    {
      "cell_type": "code",
      "metadata": {
        "id": "sXbSAu-NcQLa"
      },
      "source": [
        "def match_compañeros(preferencias):\n",
        "    rank = obtener_rank(preferencias)\n",
        "    primero, ultimo, preferencias = fase1(preferencias, rank)\n",
        "    fase2(primero, ultimo, preferencias, rank)\n",
        "    limpiar_preferencias(primero, ultimo, preferencias)\n",
        "\n",
        "    matches = []\n",
        "    largo = len(preferencias)\n",
        "    visitado = set()\n",
        "    i = 0\n",
        "\n",
        "    for i in range(len(preferencias)):\n",
        "        if not i in visitado:\n",
        "            par = (i, preferencias[i][ultimo[i]])\n",
        "            visitado.add(ultimo[i])\n",
        "            matches.append(par)\n",
        "\n",
        "    return matches\n"
      ],
      "execution_count": null,
      "outputs": []
    },
    {
      "cell_type": "code",
      "metadata": {
        "id": "nTh8m8ascR7L",
        "colab": {
          "base_uri": "https://localhost:8080/",
          "height": 308
        },
        "outputId": "b069357d-9a59-4b75-a0d3-b54553c68955"
      },
      "source": [
        "match_compañeros(preferencias)"
      ],
      "execution_count": null,
      "outputs": [
        {
          "output_type": "error",
          "ename": "IndexError",
          "evalue": "ignored",
          "traceback": [
            "\u001b[0;31m---------------------------------------------------------------------------\u001b[0m",
            "\u001b[0;31mIndexError\u001b[0m                                Traceback (most recent call last)",
            "\u001b[0;32m<ipython-input-14-f4d6b4972c90>\u001b[0m in \u001b[0;36m<module>\u001b[0;34m()\u001b[0m\n\u001b[0;32m----> 1\u001b[0;31m \u001b[0mmatch_compañeros\u001b[0m\u001b[0;34m(\u001b[0m\u001b[0mpreferencias\u001b[0m\u001b[0;34m)\u001b[0m\u001b[0;34m\u001b[0m\u001b[0;34m\u001b[0m\u001b[0m\n\u001b[0m",
            "\u001b[0;32m<ipython-input-12-44dab3155823>\u001b[0m in \u001b[0;36mmatch_compañeros\u001b[0;34m(preferencias)\u001b[0m\n\u001b[1;32m      1\u001b[0m \u001b[0;32mdef\u001b[0m \u001b[0mmatch_compañeros\u001b[0m\u001b[0;34m(\u001b[0m\u001b[0mpreferencias\u001b[0m\u001b[0;34m)\u001b[0m\u001b[0;34m:\u001b[0m\u001b[0;34m\u001b[0m\u001b[0;34m\u001b[0m\u001b[0m\n\u001b[0;32m----> 2\u001b[0;31m     \u001b[0mrank\u001b[0m \u001b[0;34m=\u001b[0m \u001b[0mobtener_rank\u001b[0m\u001b[0;34m(\u001b[0m\u001b[0mpreferencias\u001b[0m\u001b[0;34m)\u001b[0m\u001b[0;34m\u001b[0m\u001b[0;34m\u001b[0m\u001b[0m\n\u001b[0m\u001b[1;32m      3\u001b[0m     \u001b[0mprimero\u001b[0m\u001b[0;34m,\u001b[0m \u001b[0multimo\u001b[0m\u001b[0;34m,\u001b[0m \u001b[0mpreferencias\u001b[0m \u001b[0;34m=\u001b[0m \u001b[0mfase1\u001b[0m\u001b[0;34m(\u001b[0m\u001b[0mpreferencias\u001b[0m\u001b[0;34m,\u001b[0m \u001b[0mrank\u001b[0m\u001b[0;34m)\u001b[0m\u001b[0;34m\u001b[0m\u001b[0;34m\u001b[0m\u001b[0m\n\u001b[1;32m      4\u001b[0m     \u001b[0mfase2\u001b[0m\u001b[0;34m(\u001b[0m\u001b[0mprimero\u001b[0m\u001b[0;34m,\u001b[0m \u001b[0multimo\u001b[0m\u001b[0;34m,\u001b[0m \u001b[0mpreferencias\u001b[0m\u001b[0;34m,\u001b[0m \u001b[0mrank\u001b[0m\u001b[0;34m)\u001b[0m\u001b[0;34m\u001b[0m\u001b[0;34m\u001b[0m\u001b[0m\n\u001b[1;32m      5\u001b[0m     \u001b[0mlimpiar_preferencias\u001b[0m\u001b[0;34m(\u001b[0m\u001b[0mprimero\u001b[0m\u001b[0;34m,\u001b[0m \u001b[0multimo\u001b[0m\u001b[0;34m,\u001b[0m \u001b[0mpreferencias\u001b[0m\u001b[0;34m)\u001b[0m\u001b[0;34m\u001b[0m\u001b[0;34m\u001b[0m\u001b[0m\n",
            "\u001b[0;32m<ipython-input-5-7760b6784cd5>\u001b[0m in \u001b[0;36mobtener_rank\u001b[0;34m(preferencias)\u001b[0m\n\u001b[1;32m      4\u001b[0m     \u001b[0;32mfor\u001b[0m \u001b[0mi\u001b[0m \u001b[0;32min\u001b[0m \u001b[0mrange\u001b[0m\u001b[0;34m(\u001b[0m\u001b[0mlen\u001b[0m\u001b[0;34m(\u001b[0m\u001b[0mpreferencias\u001b[0m\u001b[0;34m)\u001b[0m\u001b[0;34m)\u001b[0m\u001b[0;34m:\u001b[0m\u001b[0;34m\u001b[0m\u001b[0;34m\u001b[0m\u001b[0m\n\u001b[1;32m      5\u001b[0m         \u001b[0;32mfor\u001b[0m \u001b[0mj\u001b[0m \u001b[0;32min\u001b[0m \u001b[0mrange\u001b[0m\u001b[0;34m(\u001b[0m\u001b[0mlen\u001b[0m\u001b[0;34m(\u001b[0m\u001b[0mpreferencias\u001b[0m\u001b[0;34m[\u001b[0m\u001b[0mi\u001b[0m\u001b[0;34m]\u001b[0m\u001b[0;34m)\u001b[0m\u001b[0;34m)\u001b[0m\u001b[0;34m:\u001b[0m\u001b[0;34m\u001b[0m\u001b[0;34m\u001b[0m\u001b[0m\n\u001b[0;32m----> 6\u001b[0;31m             \u001b[0mrank\u001b[0m\u001b[0;34m[\u001b[0m\u001b[0mi\u001b[0m\u001b[0;34m]\u001b[0m\u001b[0;34m[\u001b[0m\u001b[0mpreferencias\u001b[0m\u001b[0;34m[\u001b[0m\u001b[0mi\u001b[0m\u001b[0;34m]\u001b[0m\u001b[0;34m[\u001b[0m\u001b[0mj\u001b[0m\u001b[0;34m]\u001b[0m\u001b[0;34m]\u001b[0m \u001b[0;34m=\u001b[0m \u001b[0mj\u001b[0m\u001b[0;34m\u001b[0m\u001b[0;34m\u001b[0m\u001b[0m\n\u001b[0m\u001b[1;32m      7\u001b[0m \u001b[0;34m\u001b[0m\u001b[0m\n\u001b[1;32m      8\u001b[0m     \u001b[0;32mreturn\u001b[0m \u001b[0mrank\u001b[0m\u001b[0;34m\u001b[0m\u001b[0;34m\u001b[0m\u001b[0m\n",
            "\u001b[0;31mIndexError\u001b[0m: list assignment index out of range"
          ]
        }
      ]
    }
  ]
}